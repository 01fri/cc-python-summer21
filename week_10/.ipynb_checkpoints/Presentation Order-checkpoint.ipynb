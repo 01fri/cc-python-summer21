{
 "cells": [
  {
   "cell_type": "code",
   "execution_count": 1,
   "metadata": {},
   "outputs": [],
   "source": [
    "from random import shuffle\n",
    "\n",
    "def shuffle_students(listofstudents):\n",
    "    shuffle(listofstudents)\n",
    "    return listofstudents"
   ]
  },
  {
   "cell_type": "code",
   "execution_count": 2,
   "metadata": {},
   "outputs": [],
   "source": [
    "listofstudents = [\"Ziyan Cai\", \n",
    "                  \"Wesley Chau\", \n",
    "                  \"Gabriel-Lee Dekoladenu\", \n",
    "                  \"Ziwei Ji\", \n",
    "                  \"Lu Jia\",\n",
    "                  \"My Linh Le\",\n",
    "                  \"Yuqing Liang\",\n",
    "                  \"Simone Liu\", \n",
    "                  \"Ebie Love\",\n",
    "                  \"Ardak Mukanova\",\n",
    "                  \"Sarah Nichols\",\n",
    "                  \"Xintong Tan\",\n",
    "                  \"Ege Uz\",\n",
    "                  \"Tong Xia\",\n",
    "                  \"Yao Xiao\"]"
   ]
  },
  {
   "cell_type": "code",
   "execution_count": 3,
   "metadata": {},
   "outputs": [],
   "source": [
    "results = shuffle_students(listofstudents)"
   ]
  },
  {
   "cell_type": "code",
   "execution_count": 4,
   "metadata": {},
   "outputs": [
    {
     "data": {
      "text/plain": [
       "['Lu Jia',\n",
       " 'Yao Xiao',\n",
       " 'Ebie Love',\n",
       " 'Simone Liu',\n",
       " 'Ziwei Ji',\n",
       " 'My Linh Le',\n",
       " 'Ardak Mukanova',\n",
       " 'Gabriel-Lee Dekoladenu',\n",
       " 'Yuqing Liang',\n",
       " 'Ziyan Cai',\n",
       " 'Tong Xia',\n",
       " 'Wesley Chau',\n",
       " 'Xintong Tan',\n",
       " 'Ege Uz',\n",
       " 'Sarah Nichols']"
      ]
     },
     "execution_count": 4,
     "metadata": {},
     "output_type": "execute_result"
    }
   ],
   "source": [
    "results"
   ]
  },
  {
   "cell_type": "code",
   "execution_count": 5,
   "metadata": {},
   "outputs": [
    {
     "data": {
      "text/plain": [
       "15"
      ]
     },
     "execution_count": 5,
     "metadata": {},
     "output_type": "execute_result"
    }
   ],
   "source": [
    "len(results)"
   ]
  }
 ],
 "metadata": {
  "kernelspec": {
   "display_name": "Python 3",
   "language": "python",
   "name": "python3"
  },
  "language_info": {
   "codemirror_mode": {
    "name": "ipython",
    "version": 3
   },
   "file_extension": ".py",
   "mimetype": "text/x-python",
   "name": "python",
   "nbconvert_exporter": "python",
   "pygments_lexer": "ipython3",
   "version": "3.7.3"
  }
 },
 "nbformat": 4,
 "nbformat_minor": 2
}
